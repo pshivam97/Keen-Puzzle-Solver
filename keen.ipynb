{
 "cells": [
  {
   "cell_type": "markdown",
   "metadata": {},
   "source": [
    "<h1><center>Keen Problem</center></h1>"
   ]
  },
  {
   "cell_type": "markdown",
   "metadata": {},
   "source": [
    "Made By :\n",
    "\n",
    "* Abhishek Varghese (160010018)"
   ]
  },
  {
   "cell_type": "markdown",
   "metadata": {},
   "source": [
    "## Objective"
   ]
  },
  {
   "cell_type": "markdown",
   "metadata": {},
   "source": [
    "The aim of this assignment is to schedule the timetable of classes in IIT Goa such that the timetable satisfies all the constraints mentioned below. "
   ]
  },
  {
   "cell_type": "markdown",
   "metadata": {},
   "source": [
    "## Constraints"
   ]
  },
  {
   "cell_type": "markdown",
   "metadata": {},
   "source": [
    "The assignment of the classes must satisfy the following constraints:"
   ]
  },
  {
   "cell_type": "markdown",
   "metadata": {},
   "source": [
    "1. No two courses should be assigned the same room at the same time.\n",
    "\n",
    "1. A course should not be assigned more than 1 rooms at the same time.\n",
    "\n",
    "1. Each course should be assigned the type of classroom required for it (mentioned in the input file) and not any other type of room.\n",
    "\n",
    "1. A professor should not be given two or more classes at the same time.\n",
    "\n",
    "1. If two professors teach a particular course, then they both should be present in the lecture of that course.\n",
    "\n",
    "1. A batch of students should not be given two or more courses at the same time.\n",
    "\n",
    "1. All the lecture hours should fall in the institute timings (mentioned in the input file).\n",
    "\n",
    "1. Start time And End time should be multiples of 30 min\n",
    "\n",
    "1. Each course should be given the required number of time slots (mentioned in the input file).\n",
    "\n",
    "1. Preference Constraints (from input file)."
   ]
  },
  {
   "cell_type": "markdown",
   "metadata": {},
   "source": [
    "## Working"
   ]
  },
  {
   "cell_type": "markdown",
   "metadata": {},
   "source": [
    "The approach to solve the classroom scheduling problem is to define appropriate propositions and write all the constraints. We pass all these constraints in a SAT solver. The SAT solver returns a satisfying assignment of the propositions if satisfiable. For this problem, the SAT solver used is Z3."
   ]
  },
  {
   "cell_type": "markdown",
   "metadata": {},
   "source": [
    "### Sample Input"
   ]
  },
  {
   "cell_type": "markdown",
   "metadata": {},
   "source": [
    "The input is given in the form of a json file. The json file can be a dictionary or a list of lists which contains the input."
   ]
  },
  {
   "cell_type": "code",
   "execution_count": 16,
   "metadata": {},
   "outputs": [],
   "source": [
    "{\n",
    "\t\"Room Types\": [\"small\", \"big\", \"chemistry\", \"physics\"],\n",
    "\t\"Institute time\": [\n",
    "\t\t[8.50, 12.50],\n",
    "\t\t[14.00, 17.00]\n",
    "\t],\n",
    "\t\"Classrooms\": [\n",
    "\t\t[\"T1\", \"small\"],\n",
    "\t\t[\"LH1\", \"big\"],\n",
    "\t\t[\"physics_lab\", \"physics\"],\n",
    "\t\t[\"T2\", \"small\"],\n",
    "\t\t[\"LH2\", \"big\"]\n",
    "\t],\n",
    "\t\"Courses\": [\n",
    "    \t[\"cs101\", \"physics\", [3],\n",
    "\t\t\t[\"Biswas\"], 1\n",
    "\t\t],\n",
    "\t\t[\"cs201\", \"small\", [1.5, 1.5],\n",
    "\t\t\t[\"Amal\", \"Clint\"], 2\n",
    "\t\t],\n",
    "\t\t[\"cs25\", \"big\", [1, 1, 1],\n",
    "\t\t\t[\"Sharad\"], 3\n",
    "\t\t],\n",
    "\t\t[\"cs228\", \"small\", [1, 1, 1],\n",
    "\t\t\t[\"Sreejith\"], 3\n",
    "\t\t]\n",
    "\t],\n",
    "\t\"Preference prof not prefer\": [\n",
    "\t[\"Amal\", [13.0, 19.0] ],\n",
    "\t[\"Sharad\", [38.0, 42.0] ],\n",
    "\t[\"Biswas\", [0,70]]\n",
    "\t],\n",
    "\t\"Preference batch not prefer\": [\n",
    "\t[3, [62.0, 70.0]],\n",
    "\t[2, [45.0, 55.0]]\n",
    "\t]\n",
    "};"
   ]
  },
  {
   "cell_type": "markdown",
   "metadata": {},
   "source": [
    "### Model"
   ]
  },
  {
   "cell_type": "markdown",
   "metadata": {},
   "source": [
    "Any problem's efficiency and speed depends upon how we model the problem. To do so we must first understand the given problem and look at it from various different perspective. Once the problem is understood we try to optimize the model as much as possible from the observations made of the problem. In the given problem following were observed :\n",
    "\n",
    "* There was no need for a seperate proposition for assigning faculty as the faculty given in the input are the one's who would be teaching. Hence as a result any constraint on faculty would be similar to the same constraint on the courses.\n",
    "* We dont need a constraint for every type of possible rooms for a given course. As the room type is given (small, large, pysics, etc) and as the course should run in only one of the rooms of the same type, we only have to take these rooms into account for each course instead of making propositions of all the rooms.(E.g. For the input given above for a class of cs201 the propositions of the room is cs201_t1, cs201_t2. And the constraint will be exactly one of these is true. )\n",
    "* We need a model which can represent any general institute time. For this we represented the Institute time in a Number line from 0 - 70. A unit of 1 in this number line corresponds to half an hour. i.e. If a class is assigned time from 2 - 4 it means that the class will occur on Monday from 9 AM to 10 AM provided the start time is 8:30. By this we can use intiger propositions from z3 to represent time. This will ensure that all time will fall in multiples of 30 min.\n",
    "\n",
    "\n",
    "Because of the above model we have clubbed many constraints into propositions itself. Hence the number of constraints and propositions have been drastically reduced, and hence the code will take less time as compared to one where such modelling was not done. (Avg. execution time of our code : 10 sec) "
   ]
  },
  {
   "cell_type": "markdown",
   "metadata": {},
   "source": [
    "## Code"
   ]
  },
  {
   "cell_type": "markdown",
   "metadata": {},
   "source": [
    "### Headers and Libraries"
   ]
  },
  {
   "cell_type": "code",
   "execution_count": 17,
   "metadata": {},
   "outputs": [],
   "source": [
    "from __future__ import division\n",
    "import json\n",
    "from z3 import *\n",
    "from beautifultable import BeautifulTable\n"
   ]
  },
  {
   "cell_type": "markdown",
   "metadata": {},
   "source": [
    "### Functions "
   ]
  },
  {
   "cell_type": "markdown",
   "metadata": {},
   "source": [
    "* A list and solver is given as input. This function ensures that only one of the boolean variable in the list is set to True and others are set to false. It does this by inserting following expression into the solver : Sum(over all variables k) k* Product(over all variables j not equal to k) !j"
   ]
  },
  {
   "cell_type": "code",
   "execution_count": 18,
   "metadata": {},
   "outputs": [],
   "source": [
    "def exactly_one(prop_list,solver) :\n",
    "    cnf = []\n",
    "    for i in range(len(prop_list)) :\n",
    "        temp = []\n",
    "        for j in range(len(prop_list)):\n",
    "            if j == i :\n",
    "                temp.append(prop_list[j])\n",
    "            else :\n",
    "                temp.append(Not(prop_list[j]))\n",
    "        cnf.append(And(temp))\n",
    "    solver.add(Or(cnf))"
   ]
  },
  {
   "cell_type": "markdown",
   "metadata": {},
   "source": [
    "* Four Integers are given. The function adds the constraint that the intersection of this should be phi"
   ]
  },
  {
   "cell_type": "code",
   "execution_count": 19,
   "metadata": {},
   "outputs": [],
   "source": [
    "def intersection_phi(a_start,a_end,b_start,b_end,solver) :\n",
    "    one = And([a_start < b_start, a_start < b_end, a_end < b_start, a_end < b_end ])\n",
    "    two = And([a_start > b_start, a_start > b_end, a_end > b_start, a_end > b_end ])\n",
    "    solver.add(Or(one,two))"
   ]
  },
  {
   "cell_type": "markdown",
   "metadata": {},
   "source": [
    "* Similar to Above function but instead of directly adding the constraint to solver it is returning the same. The start and End of same type has been merged into a list which can be seen as the parameters."
   ]
  },
  {
   "cell_type": "code",
   "execution_count": 20,
   "metadata": {},
   "outputs": [],
   "source": [
    "def intersection_phi_return( class_a,class_b) :\n",
    "    one = And([class_a[0] < class_b[0], class_a[0] < class_b[1], class_a[1] < class_b[0], class_a[1] < class_b[1] ])\n",
    "    two = And([class_a[0] > class_b[0], class_a[0] > class_b[1], class_a[1] > class_b[0], class_a[1] > class_b[1] ])\n",
    "    return (Or(one,two))"
   ]
  },
  {
   "cell_type": "markdown",
   "metadata": {},
   "source": [
    "### Data parsing from json file"
   ]
  },
  {
   "cell_type": "code",
   "execution_count": 21,
   "metadata": {},
   "outputs": [],
   "source": [
    "inpfile = \"\"\n",
    "\n",
    "with open(inpfile) as readfile :\n",
    "    a = readfile.read()\n",
    "\n",
    "a = a.strip()\n",
    "data = json.loads(a)"
   ]
  },
  {
   "cell_type": "markdown",
   "metadata": {},
   "source": [
    "The input from the json file is stored in 'data'."
   ]
  },
  {
   "cell_type": "markdown",
   "metadata": {},
   "source": [
    "### Declarartion of variables and propositions & Preprocessing"
   ]
  },
  {
   "cell_type": "code",
   "execution_count": null,
   "metadata": {},
   "outputs": [],
   "source": [
    "import numpy as np\n",
    "\n",
    "column_indices = [\"a\",'b','c','d','e','f']\n",
    "row_indices = [ str(i) for i in range(6,0,-1)]\n",
    "s = Solver()\n",
    "board = np.zeros((6,6))\n",
    "for i in range(6) :\n",
    "    for j in range(6) :\n",
    "        board[i][j] = Int(column_indices[i]+row_indices[j])\n",
    "        s.add(board[i][j]>0)\n",
    "        s.add(board[i][j]<7)\n",
    "\n",
    "for i in range(6) :\n",
    "    for j in range(6) :\n",
    "        for k in range(6) :\n",
    "            s.add(board[i][j] != board[i][k])\n",
    "            \n",
    "for i in range(6) :\n",
    "    for j in range(6) :\n",
    "        for k in range(6) :\n",
    "            s.add(board[k][i] != board[j][i])\n",
    "\n",
    "for i in data :\n",
    "    \n",
    "    operator = i[1][-1]\n",
    "    value = i[1][:len(i[i]) - 1]\n",
    "    expression = []\n",
    "    for j in i[0] :\n",
    "        expression.append(str(board[column_indices.index(j[0])][row_indices.index(j[1])]))\n",
    "        expression.append(operator)\n",
    "    expression.pop()\n",
    "    expression = \" \".join(expression)\n",
    "    expression += \" == \" + value\n",
    "    \n",
    "    s.add(eval(expression))\n",
    "    \n",
    "    "
   ]
  },
  {
   "cell_type": "markdown",
   "metadata": {},
   "source": [
    "### Adding Constraints"
   ]
  },
  {
   "cell_type": "markdown",
   "metadata": {},
   "source": [
    "### Printing the output"
   ]
  },
  {
   "cell_type": "markdown",
   "metadata": {},
   "source": [
    "# Conclusions"
   ]
  },
  {
   "cell_type": "markdown",
   "metadata": {},
   "source": [
    "The class room scheduling problem has been solved with the help of z3. In the assignment of the timetable given by the Z3 SAT solver, all the constraints are being satisfied. There are no evidences in the time table where constraints are violated. So, the above code can be used to schedule the classes at IIT Goa provided that proper input is given to it."
   ]
  }
 ],
 "metadata": {
  "kernelspec": {
   "display_name": "Python 3",
   "language": "python",
   "name": "python3"
  },
  "language_info": {
   "codemirror_mode": {
    "name": "ipython",
    "version": 3
   },
   "file_extension": ".py",
   "mimetype": "text/x-python",
   "name": "python",
   "nbconvert_exporter": "python",
   "pygments_lexer": "ipython3",
   "version": "3.5.2"
  }
 },
 "nbformat": 4,
 "nbformat_minor": 2
}
